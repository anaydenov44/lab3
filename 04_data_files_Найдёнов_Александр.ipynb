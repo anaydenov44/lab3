{
 "cells": [
  {
   "cell_type": "markdown",
   "metadata": {},
   "source": [
    "# Форматы данных (1)"
   ]
  },
  {
   "cell_type": "markdown",
   "metadata": {},
   "source": [
    "Материалы:\n",
    "* Макрушин С.В. \"Лекция 4: Форматы данных\"\n",
    "* https://docs.python.org/3/library/json.html\n",
    "* https://docs.python.org/3/library/pickle.html\n",
    "* https://www.crummy.com/software/BeautifulSoup/bs4/doc.ru/bs4ru.html\n",
    "* Уэс Маккини. Python и анализ данных"
   ]
  },
  {
   "cell_type": "markdown",
   "metadata": {},
   "source": [
    "## Лабораторная работа №4"
   ]
  },
  {
   "cell_type": "markdown",
   "metadata": {},
   "source": [
    "### JSON"
   ]
  },
  {
   "cell_type": "markdown",
   "metadata": {},
   "source": [
    "1.1 Считайте файл `contributors_sample.json`. Воспользовавшись модулем `json`, преобразуйте содержимое файла в соответствующие объекты python. Выведите на экран информацию о первых 3 пользователях."
   ]
  },
  {
   "cell_type": "code",
   "execution_count": 12,
   "metadata": {},
   "outputs": [
    {
     "data": {
      "text/html": [
       "<div>\n",
       "<style scoped>\n",
       "    .dataframe tbody tr th:only-of-type {\n",
       "        vertical-align: middle;\n",
       "    }\n",
       "\n",
       "    .dataframe tbody tr th {\n",
       "        vertical-align: top;\n",
       "    }\n",
       "\n",
       "    .dataframe thead th {\n",
       "        text-align: right;\n",
       "    }\n",
       "</style>\n",
       "<table border=\"1\" class=\"dataframe\">\n",
       "  <thead>\n",
       "    <tr style=\"text-align: right;\">\n",
       "      <th></th>\n",
       "      <th>username</th>\n",
       "      <th>name</th>\n",
       "      <th>sex</th>\n",
       "      <th>address</th>\n",
       "      <th>mail</th>\n",
       "      <th>jobs</th>\n",
       "      <th>id</th>\n",
       "    </tr>\n",
       "  </thead>\n",
       "  <tbody>\n",
       "    <tr>\n",
       "      <th>0</th>\n",
       "      <td>uhebert</td>\n",
       "      <td>Lindsey Nguyen</td>\n",
       "      <td>F</td>\n",
       "      <td>01261 Cameron Spring\\nTaylorfurt, AK 97791</td>\n",
       "      <td>jsalazar@gmail.com</td>\n",
       "      <td>[Energy engineer, Engineer, site, Environmenta...</td>\n",
       "      <td>35193</td>\n",
       "    </tr>\n",
       "    <tr>\n",
       "      <th>1</th>\n",
       "      <td>vickitaylor</td>\n",
       "      <td>Cheryl Lewis</td>\n",
       "      <td>F</td>\n",
       "      <td>66992 Welch Brooks\\nMarshallshire, ID 56004</td>\n",
       "      <td>bhudson@gmail.com</td>\n",
       "      <td>[Music therapist, Volunteer coordinator, Desig...</td>\n",
       "      <td>91970</td>\n",
       "    </tr>\n",
       "    <tr>\n",
       "      <th>2</th>\n",
       "      <td>sheilaadams</td>\n",
       "      <td>Julia Allen</td>\n",
       "      <td>F</td>\n",
       "      <td>Unit 1632 Box 2971\\nDPO AE 23297</td>\n",
       "      <td>darren44@yahoo.com</td>\n",
       "      <td>[Management consultant, Engineer, structural, ...</td>\n",
       "      <td>1848091</td>\n",
       "    </tr>\n",
       "  </tbody>\n",
       "</table>\n",
       "</div>"
      ],
      "text/plain": [
       "      username            name sex  \\\n",
       "0      uhebert  Lindsey Nguyen   F   \n",
       "1  vickitaylor    Cheryl Lewis   F   \n",
       "2  sheilaadams     Julia Allen   F   \n",
       "\n",
       "                                       address                mail  \\\n",
       "0   01261 Cameron Spring\\nTaylorfurt, AK 97791  jsalazar@gmail.com   \n",
       "1  66992 Welch Brooks\\nMarshallshire, ID 56004   bhudson@gmail.com   \n",
       "2             Unit 1632 Box 2971\\nDPO AE 23297  darren44@yahoo.com   \n",
       "\n",
       "                                                jobs       id  \n",
       "0  [Energy engineer, Engineer, site, Environmenta...    35193  \n",
       "1  [Music therapist, Volunteer coordinator, Desig...    91970  \n",
       "2  [Management consultant, Engineer, structural, ...  1848091  "
      ]
     },
     "execution_count": 12,
     "metadata": {},
     "output_type": "execute_result"
    }
   ],
   "source": [
    "import json\n",
    "import pandas as pd\n",
    "import pickle\n",
    "\n",
    "with open('C:\\\\Users\\\\sankl\\\\OneDrive\\\\Документы\\\\contributors_sample.json', 'r', encoding='utf-8') as f:\n",
    "    data = json.load(f)\n",
    "a = []\n",
    "for i in range(len(data)):\n",
    "    a.append(data[i])\n",
    "table = pd.DataFrame(a)\n",
    "table1 = table[:3]\n",
    "table1"
   ]
  },
  {
   "cell_type": "markdown",
   "metadata": {},
   "source": [
    "1.2 Выведите уникальные почтовые домены, содержащиеся в почтовых адресах людей"
   ]
  },
  {
   "cell_type": "code",
   "execution_count": 13,
   "metadata": {},
   "outputs": [
    {
     "data": {
      "text/plain": [
       "['@gmail.com', '@yahoo.com', '@hotmail.com']"
      ]
     },
     "execution_count": 13,
     "metadata": {},
     "output_type": "execute_result"
    }
   ],
   "source": [
    "table2 = list(table['mail'])\n",
    "a1 = []\n",
    "for i in table2:\n",
    "    k = i[i.find('@'):]\n",
    "    if k not in a1:\n",
    "        a1.append(k)\n",
    "a1"
   ]
  },
  {
   "cell_type": "markdown",
   "metadata": {},
   "source": [
    "1.3 Напишите функцию, которая по `username` ищет человека и выводит информацию о нем. Если пользователь с заданным `username` отсутствует, возбудите исключение `ValueError`"
   ]
  },
  {
   "cell_type": "code",
   "execution_count": 14,
   "metadata": {},
   "outputs": [
    {
     "name": "stdout",
     "output_type": "stream",
     "text": [
      "uhebert\n",
      "  username            name sex                                     address  \\\n",
      "0  uhebert  Lindsey Nguyen   F  01261 Cameron Spring\\nTaylorfurt, AK 97791   \n",
      "\n",
      "                 mail                                               jobs  \\\n",
      "0  jsalazar@gmail.com  [Energy engineer, Engineer, site, Environmenta...   \n",
      "\n",
      "      id  \n",
      "0  35193  \n"
     ]
    }
   ],
   "source": [
    "username = str(input(''))\n",
    "def find_user(username):\n",
    "    k = table[table['username'] == username]\n",
    "    if not k.empty:\n",
    "        print(k)\n",
    "    else:\n",
    "        raise ValueError\n",
    "find_user(username)"
   ]
  },
  {
   "cell_type": "markdown",
   "metadata": {},
   "source": [
    "1.4 Посчитайте, сколько мужчин и женщин присутсвует в этом наборе данных."
   ]
  },
  {
   "cell_type": "code",
   "execution_count": 17,
   "metadata": {},
   "outputs": [
    {
     "name": "stdout",
     "output_type": "stream",
     "text": [
      "Количество женщин: 2136 \n",
      "Количество мужчин: 2064\n"
     ]
    }
   ],
   "source": [
    "count_all = list(table['sex'])\n",
    "count_women = count_all.count('F')\n",
    "count_men = count_all.count('M') \n",
    "print(f'Количество женщин: {count_women} \\nКоличество мужчин: {count_men}')"
   ]
  },
  {
   "cell_type": "markdown",
   "metadata": {},
   "source": [
    "1.5 Создайте `pd.DataFrame` `contributors`, имеющий столбцы `id`, `username` и `sex`."
   ]
  },
  {
   "cell_type": "code",
   "execution_count": 18,
   "metadata": {},
   "outputs": [
    {
     "data": {
      "text/html": [
       "<div>\n",
       "<style scoped>\n",
       "    .dataframe tbody tr th:only-of-type {\n",
       "        vertical-align: middle;\n",
       "    }\n",
       "\n",
       "    .dataframe tbody tr th {\n",
       "        vertical-align: top;\n",
       "    }\n",
       "\n",
       "    .dataframe thead th {\n",
       "        text-align: right;\n",
       "    }\n",
       "</style>\n",
       "<table border=\"1\" class=\"dataframe\">\n",
       "  <thead>\n",
       "    <tr style=\"text-align: right;\">\n",
       "      <th></th>\n",
       "      <th>id</th>\n",
       "      <th>username</th>\n",
       "      <th>sex</th>\n",
       "    </tr>\n",
       "  </thead>\n",
       "  <tbody>\n",
       "    <tr>\n",
       "      <th>0</th>\n",
       "      <td>35193</td>\n",
       "      <td>uhebert</td>\n",
       "      <td>F</td>\n",
       "    </tr>\n",
       "    <tr>\n",
       "      <th>1</th>\n",
       "      <td>91970</td>\n",
       "      <td>vickitaylor</td>\n",
       "      <td>F</td>\n",
       "    </tr>\n",
       "    <tr>\n",
       "      <th>2</th>\n",
       "      <td>1848091</td>\n",
       "      <td>sheilaadams</td>\n",
       "      <td>F</td>\n",
       "    </tr>\n",
       "    <tr>\n",
       "      <th>3</th>\n",
       "      <td>50969</td>\n",
       "      <td>nicole82</td>\n",
       "      <td>F</td>\n",
       "    </tr>\n",
       "    <tr>\n",
       "      <th>4</th>\n",
       "      <td>676820</td>\n",
       "      <td>jean67</td>\n",
       "      <td>M</td>\n",
       "    </tr>\n",
       "    <tr>\n",
       "      <th>...</th>\n",
       "      <td>...</td>\n",
       "      <td>...</td>\n",
       "      <td>...</td>\n",
       "    </tr>\n",
       "    <tr>\n",
       "      <th>4195</th>\n",
       "      <td>423555</td>\n",
       "      <td>stevenspencer</td>\n",
       "      <td>F</td>\n",
       "    </tr>\n",
       "    <tr>\n",
       "      <th>4196</th>\n",
       "      <td>35251</td>\n",
       "      <td>rwilliams</td>\n",
       "      <td>M</td>\n",
       "    </tr>\n",
       "    <tr>\n",
       "      <th>4197</th>\n",
       "      <td>135887</td>\n",
       "      <td>lmartinez</td>\n",
       "      <td>F</td>\n",
       "    </tr>\n",
       "    <tr>\n",
       "      <th>4198</th>\n",
       "      <td>212714</td>\n",
       "      <td>brendahill</td>\n",
       "      <td>M</td>\n",
       "    </tr>\n",
       "    <tr>\n",
       "      <th>4199</th>\n",
       "      <td>344321</td>\n",
       "      <td>mistyray</td>\n",
       "      <td>F</td>\n",
       "    </tr>\n",
       "  </tbody>\n",
       "</table>\n",
       "<p>4200 rows × 3 columns</p>\n",
       "</div>"
      ],
      "text/plain": [
       "           id       username sex\n",
       "0       35193        uhebert   F\n",
       "1       91970    vickitaylor   F\n",
       "2     1848091    sheilaadams   F\n",
       "3       50969       nicole82   F\n",
       "4      676820         jean67   M\n",
       "...       ...            ...  ..\n",
       "4195   423555  stevenspencer   F\n",
       "4196    35251      rwilliams   M\n",
       "4197   135887      lmartinez   F\n",
       "4198   212714     brendahill   M\n",
       "4199   344321       mistyray   F\n",
       "\n",
       "[4200 rows x 3 columns]"
      ]
     },
     "execution_count": 18,
     "metadata": {},
     "output_type": "execute_result"
    }
   ],
   "source": [
    "contributors = table[['id','username','sex']].copy()\n",
    "contributors"
   ]
  },
  {
   "cell_type": "markdown",
   "metadata": {},
   "source": [
    "1.6 Загрузите данные из файла `recipes_sample.csv` (__ЛР2__) в таблицу `recipes`. Объедините `recipes` с таблицей `contributors` с сохранением строк в том случае, если информация о человеке отсутствует в JSON-файле. Для скольких человек информация отсутствует? "
   ]
  },
  {
   "cell_type": "code",
   "execution_count": null,
   "metadata": {},
   "outputs": [],
   "source": [
    "recipes = pd.read_csv('recipes_sample.csv')\n",
    "new_recipes = pd.merge(recipes, contributors, left_on='contributor_id', right_on='id', how='left').drop(['id_y'], axis=1)\n",
    "len(new_recipes[new_recipes['username'].isnull()])"
   ]
  },
  {
   "cell_type": "markdown",
   "metadata": {},
   "source": [
    "### pickle"
   ]
  },
  {
   "cell_type": "markdown",
   "metadata": {},
   "source": [
    "2.1 На основе файла `contributors_sample.json` создайте словарь следующего вида: \n",
    "```\n",
    "{\n",
    "    должность: [список username людей, занимавших эту должность]\n",
    "}\n",
    "```"
   ]
  },
  {
   "cell_type": "code",
   "execution_count": 20,
   "metadata": {},
   "outputs": [],
   "source": [
    "d = {}\n",
    "for user in data:\n",
    "    for job in user['jobs']:\n",
    "        if job not in d:\n",
    "            d[job] = [user['username']]\n",
    "        else:\n",
    "            d[job] = [*d[job], user['username']]\n"
   ]
  },
  {
   "cell_type": "markdown",
   "metadata": {},
   "source": [
    "2.2 Сохраните результаты в файл `job_people.pickle` и в файл `job_people.json` с использованием форматов pickle и JSON соответственно. Сравните объемы получившихся файлов. При сохранении в JSON укажите аргумент `indent`."
   ]
  },
  {
   "cell_type": "code",
   "execution_count": null,
   "metadata": {},
   "outputs": [],
   "source": [
    "with open('job_people.pickle', 'wb') as f:\n",
    "    pickle.dump(d, f)\n",
    "    \n",
    "with open('job_people.json', 'w') as f: \n",
    "    json.dump(d, f, indent=2)"
   ]
  },
  {
   "cell_type": "markdown",
   "metadata": {},
   "source": [
    "2.3 Считайте файл `job_people.pickle` и продемонстрируйте, что данные считались корректно. "
   ]
  },
  {
   "cell_type": "code",
   "execution_count": null,
   "metadata": {},
   "outputs": [],
   "source": [
    "with open('job_people.pickle', 'rb') as f:\n",
    "    d23 = pickle.load(f)"
   ]
  },
  {
   "cell_type": "markdown",
   "metadata": {},
   "source": [
    "### XML"
   ]
  },
  {
   "cell_type": "markdown",
   "metadata": {},
   "source": [
    "3.1 По данным файла `steps_sample.xml` сформируйте словарь с шагами по каждому рецепту вида `{id_рецепта: [\"шаг1\", \"шаг2\"]}`. Сохраните этот словарь в файл `steps_sample.json`"
   ]
  },
  {
   "cell_type": "code",
   "execution_count": null,
   "metadata": {},
   "outputs": [],
   "source": [
    "from bs4 import BeautifulSoup\n",
    "with open('steps_sample.xml') as f:\n",
    "    ab = BeautifulSoup(f, 'xml')\n",
    "d1 = {}\n",
    "for recipe in ab.find_all(\"recipe\"):\n",
    "    id1 = recipe.find('id').text\n",
    "    steps = [step.text for step in recipe.find('steps').find_all('step')]\n",
    "    d1[id1] = steps\n",
    "\n"
   ]
  },
  {
   "cell_type": "markdown",
   "metadata": {},
   "source": [
    "3.2 По данным файла `steps_sample.xml` сформируйте словарь следующего вида: `кол-во_шагов_в_рецепте: [список_id_рецептов]`"
   ]
  },
  {
   "cell_type": "code",
   "execution_count": null,
   "metadata": {},
   "outputs": [],
   "source": [
    "d2 = {}\n",
    "for recipe in ab.find_all(\"recipe\"):\n",
    "    steps = recipe.find_all(\"step\")\n",
    "    count_step = len(steps)\n",
    "    if count_step in d2:\n",
    "        d2[count_step].append(recipe.id.string)\n",
    "    else:\n",
    "        d2[count_step] = [recipe.id.string]\n"
   ]
  },
  {
   "cell_type": "markdown",
   "metadata": {},
   "source": [
    "3.3 Получите список рецептов, в этапах выполнения которых есть информация о времени (часы или минуты). Для отбора подходящих рецептов обратите внимание на атрибуты соответствующих тэгов."
   ]
  },
  {
   "cell_type": "code",
   "execution_count": null,
   "metadata": {},
   "outputs": [],
   "source": [
    "recipes3 = []\n",
    "for recipe in ab.find_all(\"recipe\"):\n",
    "    for step in recipe.steps.find_all('step'):\n",
    "        if (str(step).find('has_hours') != -1) or (str(step).find('has_minutes') != -1):\n",
    "            recipes3.append(recipe.id.string)\n",
    "            break\n"
   ]
  },
  {
   "cell_type": "markdown",
   "metadata": {},
   "source": [
    "3.4 Загрузите данные из файла `recipes_sample.csv` (__ЛР2__) в таблицу `recipes`. Для строк, которые содержат пропуски в столбце `n_steps`, заполните этот столбец на основе файла  `steps_sample.xml`. Строки, в которых столбец `n_steps` заполнен, оставьте без изменений."
   ]
  },
  {
   "cell_type": "code",
   "execution_count": null,
   "metadata": {},
   "outputs": [],
   "source": [
    "d4 = []\n",
    "recipes = pd.read_csv(\"recipes_sample.csv\", sep=',')\n",
    "for recipe in ab.find_all(\"recipe\"):\n",
    "    l = {'id': int(recipe.find('id').text), 'n_steps': len(recipe.find_all('step'))}\n",
    "    d4.append(l)\n",
    "table4 = pd.DataFrame(d34)\n",
    "recipes=pd.read_csv('recipes_sample.csv')\n",
    "recipes=pd.DataFrame(recipes)\n",
    "recipes2 = pd.merge(recipes, table34, how='left', on='id')\n",
    "recipes2['n_steps']=recipes2['n_steps_y']\n",
    "recipes2 = recipes2.drop('n_steps_x',axis=1)\n",
    "recipes2 = recipes2.drop('n_steps_y',axis=1)\n",
    "recipes2"
   ]
  },
  {
   "cell_type": "markdown",
   "metadata": {},
   "source": [
    "3.5 Проверьте, содержит ли столбец `n_steps` пропуски. Если нет, то преобразуйте его к целочисленному типу и сохраните результаты в файл `recipes_sample_with_filled_nsteps.csv`"
   ]
  },
  {
   "cell_type": "code",
   "execution_count": null,
   "metadata": {},
   "outputs": [],
   "source": [
    "if recipes2['n_steps'].isna().sum() == 0:\n",
    "    print('Не содержит пропуски')\n",
    "    recipes2['n_steps'] = recipes2['n_steps'].astype(int)\n",
    "    recipes2.to_csv('recipes_sample_with_filled_nsteps.csv', encoding='utf-8')"
   ]
  }
 ],
 "metadata": {
  "kernelspec": {
   "display_name": "Python 3 (ipykernel)",
   "language": "python",
   "name": "python3"
  },
  "language_info": {
   "codemirror_mode": {
    "name": "ipython",
    "version": 3
   },
   "file_extension": ".py",
   "mimetype": "text/x-python",
   "name": "python",
   "nbconvert_exporter": "python",
   "pygments_lexer": "ipython3",
   "version": "3.9.12"
  }
 },
 "nbformat": 4,
 "nbformat_minor": 4
}
